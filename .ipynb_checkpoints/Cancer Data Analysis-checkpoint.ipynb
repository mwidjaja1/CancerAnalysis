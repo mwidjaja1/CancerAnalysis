{
 "cells": [
  {
   "cell_type": "markdown",
   "metadata": {},
   "source": [
    "# Analyzing Breast Cancer Diagnostic Data\n",
    "\n",
    "## About the Data\n",
    "The UCI Machine Learning Repository has a dataset containing of 569 images of a cancer tumor. https://www.kaggle.com/uciml/breast-cancer-wisconsin-data\n",
    "\n",
    "The dataset contains these columns for each image:\n",
    "- id\n",
    "- diagnosis (Malignant or Benign) \n",
    "- radius (mean of distance from center to points on the perimeter)\n",
    "- texture (standard dev. of gray-scale values)\n",
    "- perimeter\n",
    "- area\n",
    "- smoothness (local variation in radius lengths)\n",
    "- compactness as defined by:\n",
    "  - $$\\frac{perimeter^2}{area - 1.0}$$\n",
    "- concavity (severity of concave portions of the contour)\n",
    "- concave points (number of concave portions of the contour)\n",
    "- symmetry\n",
    "- fractal dimension (coastlineApproximation - 1)\n",
    "\n",
    "Besides for `id` and `diagnosis`, each of those categories were collected three times for each image to calculate the mean, standard error, and worst/largest value for each feature. This effectively produced 30 features.\n",
    "\n",
    "## Primary Goals\n",
    "In this project, I wanted to...\n",
    "1. Create the most effective model which can predict if a cancer tumor is benign or malignant. \n",
    "2. Determine weaknesses and strengths of said solution"
   ]
  },
  {
   "cell_type": "markdown",
   "metadata": {},
   "source": [
    "----\n",
    "## Initial Data Load\n",
    "Because the data is a CSV file with both text & numbers, it's ideal to load it as a Pandas DataFrame"
   ]
  },
  {
   "cell_type": "markdown",
   "metadata": {},
   "source": [
    "#### Splitting Data\n",
    "We first split the data by using the `train_test_split` function in scikit learn. This function lets me split the data randomly everytime such that x% of data is used for training and the remaining 1-x% is used for testing.\n",
    "\n",
    "For this project, I elected to have 30% of my data be used for testing and the remaining 70% to be used for training."
   ]
  },
  {
   "cell_type": "code",
   "execution_count": 324,
   "metadata": {
    "collapsed": true
   },
   "outputs": [],
   "source": [
    "def split_data(data_df):\n",
    "    \"\"\" Creates a input train, input test, output train, and output test\n",
    "        data set where 'diagnosis' is the column for output\n",
    "    \"\"\"\n",
    "    out_df = data_df['diagnosis']\n",
    "    in_df = data_df.drop('diagnosis', axis=1)\n",
    "    return model_selection.train_test_split(in_df, out_df, test_size=0.30)"
   ]
  },
  {
   "cell_type": "markdown",
   "metadata": {},
   "source": [
    "#### Cleaning Data\n",
    "While the data is mostly clean, we can improve the memory footprint of this script by converting the `diagnosis` column to a Pandas Categorical. This column is currently a binary value between the string values of \"M\" or \"B\". By converting it to a categorical type we can retain this easy to understand values from the front-end, but reassign these values to integers on the back-end, which improves resources. http://pandas.pydata.org/pandas-docs/stable/categorical.html"
   ]
  },
  {
   "cell_type": "code",
   "execution_count": 325,
   "metadata": {
    "collapsed": true
   },
   "outputs": [],
   "source": [
    "import os\n",
    "import pandas as pd\n",
    "\n",
    "\n",
    "def main():\n",
    "    # Loads CSV File\n",
    "    data_df = pd.read_csv('data.csv', index_col=0)\n",
    "    data_df = data_df.iloc[:, :-1]\n",
    "\n",
    "    # Cleans CSV File\n",
    "    data_df['diagnosis'] = data_df['diagnosis'].astype('category')\n",
    "\n",
    "    # Splits CSV file\n",
    "    in_train, in_test, out_train, out_test = split_data(data_df)"
   ]
  },
  {
   "cell_type": "markdown",
   "metadata": {},
   "source": [
    "----\n",
    "## Comparing Machine Learning Models\n",
    "Scikit-Learn now provides tools to compare several machine learning models against each other at the same time. This gave me the opportunity to quickly see how each model reacts to this dataset.\n",
    "\n",
    "The function below does three things:\n",
    "1. It creates a cross validation score configuration where we can compare the training inputs and calculate the accuracy between the predicted training output & the actual training output.\n",
    "2. We repeat that process for 20 folds over each model we want to test, which includes:\n",
    "  1. Logistic Regression\n",
    "  2. Linear Discriminant Analysis\n",
    "  3. Quadratic Discriminant Analysis\n",
    "  4. K Neighbors Classifier\n",
    "  5. Decision Tree Classifier\n",
    "  6. Guassian NB\n",
    "  7. SVC\n",
    "3. We plot the accuracies across all 20 folds & models to a violin plot."
   ]
  },
  {
   "cell_type": "code",
   "execution_count": 326,
   "metadata": {
    "collapsed": true
   },
   "outputs": [],
   "source": [
    "from sklearn import discriminant_analysis, linear_model, model_selection, naive_bayes, neighbors, svm, tree\n",
    "from sklearn.metrics import confusion_matrix\n",
    "import matplotlib.pyplot as plt\n",
    "import numpy as np\n",
    "import pandas as pd\n",
    "\n",
    "def scikit_validator(in_train, out_train):\n",
    "    \"\"\" Tests Scikit Learn models against training data\n",
    "\n",
    "        Conclusions was that Logistic Regression (Mean 0.949 & SD 0.033) and\n",
    "        LinearDiscriminantAnalysis (Mean 0.956 & SD 0.033) were the best. LDA\n",
    "        is consistently high while LR is most likely to perform dead on.\n",
    "\n",
    "    \"\"\"\n",
    "    # Spot Check Algorithms\n",
    "    models = []\n",
    "    models.append(('LR', linear_model.LogisticRegression()))\n",
    "    models.append(('LDA', discriminant_analysis.LinearDiscriminantAnalysis()))\n",
    "    models.append(('QDA', discriminant_analysis.QuadraticDiscriminantAnalysis()))\n",
    "    models.append(('KNN', neighbors.KNeighborsClassifier()))\n",
    "    models.append(('TREE', tree.DecisionTreeClassifier()))\n",
    "    models.append(('NB', naive_bayes.GaussianNB()))\n",
    "    models.append(('SVM', svm.SVC()))\n",
    "\n",
    "    # Evaluate Model\n",
    "    sk_summary = {}\n",
    "    for name, model in models:\n",
    "        kfold = model_selection.KFold(n_splits=20)\n",
    "        results = model_selection.cross_val_score(model, in_train, out_train,\n",
    "                                                  cv=kfold, scoring='accuracy')\n",
    "        sk_summary[name] = results\n",
    "        print('{}: {} ({})'.format(name, results.mean(), results.std()))\n",
    "\n",
    "    # Plots Results\n",
    "    fig, ax = plt.subplots(1, 1)\n",
    "    ax.set_title('Algorithm Comparison')\n",
    "    plt.violinplot([sk_summary[x] for x in sk_summary])\n",
    "    ax.set_xticks(range(1,9,1))\n",
    "    ax.set_xticklabels([x for x in sk_summary])\n",
    "    plt.show()\n",
    "    \n",
    "    return sk_summary"
   ]
  },
  {
   "cell_type": "markdown",
   "metadata": {},
   "source": [
    "We will run this function on only our training data initially, because at this point, I'm not too worried about the repeatability of each model quite yet. I'm just trying to find the models with perform the best with the least fussing & tweaking."
   ]
  },
  {
   "cell_type": "code",
   "execution_count": 327,
   "metadata": {},
   "outputs": [
    {
     "name": "stdout",
     "output_type": "stream",
     "text": [
      "LR: 0.9496052631578946 (0.039088249823165874)\n",
      "LDA: 0.9472368421052628 (0.04866269083419428)\n",
      "QDA: 0.9448684210526315 (0.04973945273014909)\n",
      "KNN: 0.9168421052631578 (0.0559939153797695)\n",
      "TREE: 0.9196052631578947 (0.04852017171972818)\n",
      "NB: 0.937236842105263 (0.06884622452668661)\n",
      "SVM: 0.6336842105263158 (0.09480480018703774)\n"
     ]
    },
    {
     "data": {
      "image/png": "[encoded data removed]",
      "text/plain": [
       "<matplotlib.figure.Figure at 0x10feb11d0>"
      ]
     },
     "metadata": {},
     "output_type": "display_data"
    }
   ],
   "source": [
    "def main():\n",
    "    # Loads CSV File\n",
    "    data_df = pd.read_csv('data.csv', index_col=0)\n",
    "    data_df = data_df.iloc[:, :-1]\n",
    "\n",
    "    # Cleans CSV File\n",
    "    data_df['diagnosis'] = data_df['diagnosis'].astype('category')\n",
    "\n",
    "    # Splits CSV file\n",
    "    in_train, in_test, out_train, out_test = split_data(data_df)\n",
    "    sk_summary = scikit_validator(in_train, out_train)\n",
    "\n",
    "main()"
   ]
  },
  {
   "cell_type": "markdown",
   "metadata": {},
   "source": [
    "The results right out of the gate suggest that practically every model, besides an SVM, would perform well with our dataset.\n",
    "\n",
    "I wanted to initially compare the differences between an LDA & QDA model because they both were the top two models which had the best accuracy, even when they performed at their worst. I will investigate this in the next section.\n",
    "\n",
    "It's also worth noting that this dataset is awfully small at 600 datapoints alone and is practically numerical based. If this dataset was any larger and/or had more 'bad' data, it's possible these models would not suffice anymore and we would have to investigate new models."
   ]
  },
  {
   "cell_type": "markdown",
   "metadata": {},
   "source": [
    "----\n",
    "## Comparing LDA & QDA\n",
    "I began by creating two functions. One function establishes an LDA model."
   ]
  },
  {
   "cell_type": "code",
   "execution_count": 328,
   "metadata": {
    "collapsed": true
   },
   "outputs": [],
   "source": [
    "def lda(in_train, out_train, in_test, out_test):\n",
    "    # Creates Model & Fits Model\n",
    "    lda = discriminant_analysis.LinearDiscriminantAnalysis()\n",
    "    lda.fit(in_train, out_train)\n",
    "\n",
    "    # Generates Coefficients for Feature Importance\n",
    "    coef = lda.coef_\n",
    "\n",
    "    # Creates Predictions & Generates Confusion Matrix Data\n",
    "    predict = pd.Series(lda.predict(in_test))\n",
    "    matrix = confusion_matrix(out_test, predict)\n",
    "    return matrix, coef"
   ]
  },
  {
   "cell_type": "markdown",
   "metadata": {},
   "source": [
    "And the second function establishes a QDA model."
   ]
  },
  {
   "cell_type": "code",
   "execution_count": 329,
   "metadata": {
    "collapsed": true
   },
   "outputs": [],
   "source": [
    "def qda(in_train, out_train, in_test, out_test):\n",
    "    qda = discriminant_analysis.QuadraticDiscriminantAnalysis()\n",
    "    qda.fit(in_train, out_train)\n",
    "\n",
    "    predict = pd.Series(qda.predict(in_test))\n",
    "    matrix = confusion_matrix(out_test, predict)\n",
    "    return matrix"
   ]
  },
  {
   "cell_type": "markdown",
   "metadata": {},
   "source": [
    "I also created a helper function to create a Confusion Matrix so I can compare the predicted outputs vs. the actual outputs from the test data. This will help me guage the accuracy of both models in regards of specifically figuring out where the models fell apart."
   ]
  },
  {
   "cell_type": "code",
   "execution_count": 330,
   "metadata": {
    "collapsed": true
   },
   "outputs": [],
   "source": [
    "import itertools\n",
    "from matplotlib import pyplot as plt\n",
    "\n",
    "def plot_confusion_matrix(cm, classes, qty, title='Confusion Matrix',\n",
    "                          cmap=plt.cm.Blues):\n",
    "    \"\"\"\n",
    "    This function prints and plots the confusion matrix.\n",
    "    \"\"\"\n",
    "    cm_flat = np.vstack([np.array(x).reshape(1, 4) for x in cm])\n",
    "    cm_sum = cm_flat.sum(axis=0).reshape(2, 2)\n",
    "    cm_avg = cm_sum / qty\n",
    "\n",
    "    plt.imshow(cm_avg, interpolation='nearest', cmap=cmap)\n",
    "    plt.title(title)\n",
    "    plt.colorbar()\n",
    "    tick_marks = np.arange(len(classes))\n",
    "    plt.xticks(tick_marks, classes, rotation=45)\n",
    "    plt.yticks(tick_marks, classes)\n",
    "\n",
    "    fmt = '.2f'\n",
    "    thresh = cm_avg.max() / 2.\n",
    "    for i, j in itertools.product(range(2), range(2)):\n",
    "        plt.text(j, i, format(cm_avg[i, j], fmt),\n",
    "                 horizontalalignment=\"center\",\n",
    "                 color=\"white\" if cm_avg[i, j] > thresh else \"black\")\n",
    "\n",
    "    plt.tight_layout()\n",
    "    plt.ylabel('True label')\n",
    "    plt.xlabel('Predicted label')\n",
    "    plt.show()"
   ]
  },
  {
   "cell_type": "markdown",
   "metadata": {},
   "source": [
    "I also created a helper function to help me visualize the importance of each feature in the LDA model."
   ]
  },
  {
   "cell_type": "code",
   "execution_count": 331,
   "metadata": {
    "collapsed": true
   },
   "outputs": [],
   "source": [
    "import itertools\n",
    "from matplotlib import pyplot as plt\n",
    "\n",
    "def create_feature_importance(cm, features, qty, title):\n",
    "    \"\"\"\n",
    "    This function plots the Feature Importance\n",
    "    \"\"\"\n",
    "    cm_flat = np.vstack([np.array(x) for x in cm])\n",
    "    cm_sum = cm_flat.sum(axis=0)\n",
    "    cm_avg = cm_sum / qty\n",
    "\n",
    "    fig, ax = plt.subplots(1, 1)\n",
    "    ax.bar(range(len(cm_avg)), cm_avg, 0.5)\n",
    "    ax.set_title(title)\n",
    "    ax.set_xticks(range(len(cm_avg)))\n",
    "    ax.set_xticklabels(features, rotation=90)\n",
    "    plt.show()"
   ]
  },
  {
   "cell_type": "markdown",
   "metadata": {},
   "source": [
    "I then invoked both functions from the main function"
   ]
  },
  {
   "cell_type": "code",
   "execution_count": 332,
   "metadata": {},
   "outputs": [
    {
     "data": {
      "image/png": "[encoded data removed]",
      "text/plain": [
       "<matplotlib.figure.Figure at 0x11e035898>"
      ]
     },
     "metadata": {},
     "output_type": "display_data"
    },
    {
     "data": {
      "image/png": "[encoded data removed]",
      "text/plain": [
       "<matplotlib.figure.Figure at 0x117e17710>"
      ]
     },
     "metadata": {},
     "output_type": "display_data"
    },
    {
     "data": {
      "image/png": "[encoded data removed]",
      "text/plain": [
       "<matplotlib.figure.Figure at 0x1a22810c18>"
      ]
     },
     "metadata": {},
     "output_type": "display_data"
    }
   ],
   "source": [
    "def main():\n",
    "    # Loads CSV File\n",
    "    data_df = pd.read_csv('data.csv', index_col=0)\n",
    "    data_df = data_df.iloc[:, :-1]\n",
    "\n",
    "    # Cleans CSV File\n",
    "    data_df['diagnosis'] = data_df['diagnosis'].astype('category')\n",
    "\n",
    "    # Creates Structures to store data from iterations\n",
    "    lda_cm_all = []\n",
    "    lda_coef_all = []\n",
    "    qda_cm_all = []\n",
    "    max_qty = 10\n",
    "\n",
    "    for split in range(0, max_qty, 1):\n",
    "        # Splits Data\n",
    "        in_train, in_test, out_train, out_test = split_data(data_df)\n",
    "\n",
    "        # Fits & Predicts Model\n",
    "        lda_cm, lda_coef = lda(in_train, out_train, in_test, out_test)\n",
    "        qda_cm = qda(in_train, out_train, in_test, out_test)\n",
    "\n",
    "        # Adds data to unified data store\n",
    "        lda_cm_all.append(lda_cm)\n",
    "        lda_coef_all.append(lda_coef)\n",
    "        qda_cm_all.append(qda_cm)\n",
    "        \n",
    "    # Plots Confusion Matrix\n",
    "    classes = out_test.unique()\n",
    "    plot_confusion_matrix(lda_cm_all, classes, qty=max_qty,\n",
    "                          title='LDA Confusion Matrix',\n",
    "                          cmap=plt.cm.Blues)\n",
    "    plot_confusion_matrix(qda_cm_all, classes, qty=max_qty,\n",
    "                          title='QDA Confusion Matrix',\n",
    "                          cmap=plt.cm.Blues)\n",
    "\n",
    "    # Calculates Feature Importance\n",
    "    features = in_test.columns.unique()\n",
    "    create_feature_importance(lda_coef_all, features, max_qty,\n",
    "                              title='LDA Coefficients')\n",
    "\n",
    "main()"
   ]
  },
  {
   "cell_type": "markdown",
   "metadata": {},
   "source": [
    "The Confusion Matrix suggests that this dataset is easily learned. But I wanted to know which Features assist in the learning process. To assist, I created a function to help plot the feature importance for the LDA model."
   ]
  },
  {
   "cell_type": "markdown",
   "metadata": {},
   "source": [
    "----\n",
    "## Conclusions"
   ]
  },
  {
   "cell_type": "markdown",
   "metadata": {},
   "source": [
    "Looking at the Confusion Matrix, the model appears to correctly predict the right value for each image most of the time.\n",
    "\n",
    "Looking at the Feature Importance for the LDA model, the following features are most used in descending order of importance:\n",
    "- Standard Error for Smoothness\n",
    "- Standard Error for Concave Points\n",
    "- Worst Value for Fractical Dimension\n",
    "- Standard Error for Symmetry\n",
    "\n",
    "Coincidentally, the Standard Error for Fractical Dimensions is the worst performer in predicing cancer tumors too.\n",
    "\n",
    "But, it's hard to argue against sticking with the LDQ or QDA models for the time being. The accuracy of this model is surprisingly strong given the confusion matrix, the accuracy success of the other models, and how we've yet to do signifcant tuning to any model other than using the defaults. It's possible that these models are over-training to a slight extent, but with a dataset of only 700 samples, we'd be hard-pressed to engineer a better solution with great certainty until we have more data."
   ]
  }
 ],
 "metadata": {
  "kernelspec": {
   "display_name": "Python 3",
   "language": "python",
   "name": "python3"
  },
  "language_info": {
   "codemirror_mode": {
    "name": "ipython",
    "version": 3
   },
   "file_extension": ".py",
   "mimetype": "text/x-python",
   "name": "python",
   "nbconvert_exporter": "python",
   "pygments_lexer": "ipython3",
   "version": "3.6.3"
  }
 },
 "nbformat": 4,
 "nbformat_minor": 2
}
